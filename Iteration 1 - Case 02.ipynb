{
 "cells": [
  {
   "cell_type": "markdown",
   "id": "a9e86acd-6d53-44f1-8da7-4abdf35f04b1",
   "metadata": {},
   "source": [
    "### <mark>**How do we systemize the imports, do we split them in a certain way and do we explain which one is for what?**</mark>"
   ]
  },
  {
   "cell_type": "code",
   "execution_count": 151,
   "id": "b571ae67-3667-428e-867d-933487af328f",
   "metadata": {},
   "outputs": [],
   "source": [
    "import pandas as pd\n",
    "import numpy as np\n",
    "from collections import Counter\n",
    "import re\n",
    "\n",
    "#important libraries for the model\n",
    "import sklearn as scikit_learn\n",
    "from sklearn.preprocessing import LabelEncoder\n",
    "from sklearn.model_selection import train_test_split\n",
    "from sklearn.metrics import mean_absolute_error, mean_squared_error, mean_absolute_percentage_error"
   ]
  },
  {
   "cell_type": "markdown",
   "id": "1850227b-470a-44b8-98c6-e52a390cc4ee",
   "metadata": {},
   "source": [
    "## **DATA UNDERSTANDING**"
   ]
  },
  {
   "cell_type": "code",
   "execution_count": 152,
   "id": "bd39910a-65eb-40c7-9618-71eb62d4d8c0",
   "metadata": {},
   "outputs": [],
   "source": [
    "# Load the dataset\n",
    "file_path = \"Data/set8_it1.csv\"\n",
    "df = pd.read_csv(file_path)"
   ]
  },
  {
   "cell_type": "code",
   "execution_count": 153,
   "id": "ee2d8b0c-55dc-496c-82b6-43fd1b74f595",
   "metadata": {},
   "outputs": [
    {
     "name": "stdout",
     "output_type": "stream",
     "text": [
      "<class 'pandas.core.frame.DataFrame'>\n",
      "RangeIndex: 2363 entries, 0 to 2362\n",
      "Data columns (total 6 columns):\n",
      " #   Column          Non-Null Count  Dtype  \n",
      "---  ------          --------------  -----  \n",
      " 0   TradeValue      2363 non-null   float64\n",
      " 1   RealmType       2363 non-null   object \n",
      " 2   Enclave         2363 non-null   object \n",
      " 3   LivingQuarters  2244 non-null   float64\n",
      " 4   ParcelSize      2363 non-null   float64\n",
      " 5   ParcelSizeUnit  2363 non-null   object \n",
      "dtypes: float64(3), object(3)\n",
      "memory usage: 110.9+ KB\n"
     ]
    }
   ],
   "source": [
    "# We drop the DI column and explore the dataset for any obvious inconsistencies\n",
    "df = df.drop([\"DI\"], axis=1)\n",
    "df.info()"
   ]
  },
  {
   "cell_type": "markdown",
   "id": "77cd6926-86db-4193-9446-a7719a498702",
   "metadata": {},
   "source": [
    "## **DATA PREPARATION**"
   ]
  },
  {
   "cell_type": "code",
   "execution_count": 154,
   "id": "e6c06134-8773-4449-9e88-25f1e968eed0",
   "metadata": {},
   "outputs": [],
   "source": [
    "# Remove negative values in ParcelSize\n",
    "df = df[df[\"ParcelSize\"] >= 0]\n",
    "\n",
    "# Remove rows with missing LivingQuarters data\n",
    "df = df.dropna(subset=[\"LivingQuarters\"])\n",
    "\n",
    "# Remove rows where ParcelSize is less than 1\n",
    "df = df[df[\"ParcelSize\"] >= 1]\n",
    "\n",
    "# Remove duplicate rows\n",
    "df = df.drop_duplicates()"
   ]
  },
  {
   "cell_type": "code",
   "execution_count": 155,
   "id": "0b1a533b-b4c2-46da-9703-2198554a8654",
   "metadata": {},
   "outputs": [],
   "source": [
    "# Standardize Enclave column (strip spaces and fix casing)\n",
    "df[\"Enclave\"] = df[\"Enclave\"].str.strip()\n",
    "\n",
    "# Fix inconsistent enclave names\n",
    "def standardize_enclave(enclave_series):\n",
    "    enclave_counts = Counter(enclave_series)\n",
    "    mapping = {}\n",
    "    standardized_names = {}\n",
    "\n",
    "    for enclave in enclave_counts:\n",
    "        # Convert to a standard form: Capitalize 1st letter, remove the trailing 's' if it is present in the Enclave\n",
    "        standardized = re.sub(r's$', '', enclave, flags=re.IGNORECASE).capitalize()\n",
    "\n",
    "        # Keep track of the most frequent correct version\n",
    "        if standardized not in standardized_names or enclave_counts[enclave] > enclave_counts.get(\n",
    "                standardized_names[standardized], 0):\n",
    "            standardized_names[standardized] = enclave\n",
    "\n",
    "    # Replace variations with the most frequent correct version\n",
    "    for enclave in enclave_series:\n",
    "        standardized = re.sub(r's$', '', enclave, flags=re.IGNORECASE).capitalize()\n",
    "        if standardized in standardized_names:\n",
    "            mapping[enclave] = standardized_names[standardized]\n",
    "\n",
    "    return enclave_series.replace(mapping)\n",
    "\n",
    "\n",
    "df[\"Enclave\"] = standardize_enclave(df[\"Enclave\"])"
   ]
  },
  {
   "cell_type": "code",
   "execution_count": 156,
   "id": "9b496e95-167e-4c23-8831-ed80ae9a2b90",
   "metadata": {},
   "outputs": [],
   "source": [
    "# Convert ParcelSize to sqft if it is in sqm\n",
    "conversion_factor = 10.7639  # 1 sqm = 10.7639 sqft\n",
    "df.loc[df[\"ParcelSizeUnit\"] == \"sqm\", \"ParcelSize\"] *= conversion_factor\n",
    "df.loc[df[\"ParcelSizeUnit\"] == \"sqm\", \"ParcelSizeUnit\"] = \"sqft\""
   ]
  },
  {
   "cell_type": "markdown",
   "id": "706e9921-8652-49ad-9cd4-f3d317b92652",
   "metadata": {},
   "source": [
    "### <mark>**Is this next command needed (we never reuse the min trade value)?**</mark>"
   ]
  },
  {
   "cell_type": "code",
   "execution_count": 157,
   "id": "caafbca3-4a09-4e8d-a87d-2c4764c3882d",
   "metadata": {},
   "outputs": [],
   "source": [
    "# Investigate TradeValue minimum\n",
    "min_trade_value = df[\"TradeValue\"].min()\n",
    "outlier_trade_value = df[df[\"TradeValue\"] == min_trade_value]"
   ]
  },
  {
   "cell_type": "code",
   "execution_count": 158,
   "id": "b1f33677-f194-4027-81c7-a58446a00383",
   "metadata": {},
   "outputs": [],
   "source": [
    "# Detect outliers using 1.5*IQR method\n",
    "def detect_outliers(column):\n",
    "    Q1 = df[column].quantile(0.25)\n",
    "    Q3 = df[column].quantile(0.75)\n",
    "    IQR = Q3 - Q1\n",
    "    lower_bound = Q1 - 1.5 * IQR\n",
    "    upper_bound = Q3 + 1.5 * IQR\n",
    "    return df[(df[column] < lower_bound) | (df[column] > upper_bound)]\n",
    "\n",
    "outliers_trade_value = detect_outliers(\"TradeValue\")\n",
    "outliers_living_quarters = detect_outliers(\"LivingQuarters\")\n",
    "outliers_parcel_size = detect_outliers(\"ParcelSize\")\n",
    "\n",
    "# Get index values of all outliers\n",
    "outlier_indices = (\n",
    "    outliers_trade_value.index.to_list() + \n",
    "    outliers_living_quarters.index.to_list() + \n",
    "    outliers_parcel_size.index.to_list()\n",
    ")\n",
    "\n",
    "# Drop these rows from the dataset\n",
    "df = df.drop(index=outlier_indices)"
   ]
  },
  {
   "cell_type": "code",
   "execution_count": 159,
   "id": "7f3141ec-c9c8-40c9-8353-6b449fd487da",
   "metadata": {},
   "outputs": [
    {
     "name": "stdout",
     "output_type": "stream",
     "text": [
      "<class 'pandas.core.frame.DataFrame'>\n",
      "Index: 1987 entries, 0 to 2362\n",
      "Data columns (total 6 columns):\n",
      " #   Column          Non-Null Count  Dtype  \n",
      "---  ------          --------------  -----  \n",
      " 0   TradeValue      1987 non-null   float64\n",
      " 1   RealmType       1987 non-null   object \n",
      " 2   Enclave         1987 non-null   object \n",
      " 3   LivingQuarters  1987 non-null   float64\n",
      " 4   ParcelSize      1987 non-null   float64\n",
      " 5   ParcelSizeUnit  1987 non-null   object \n",
      "dtypes: float64(3), object(3)\n",
      "memory usage: 108.7+ KB\n"
     ]
    }
   ],
   "source": [
    "# Check the amount of rows we have left and if there are any null left values\n",
    "df.info()"
   ]
  },
  {
   "cell_type": "markdown",
   "id": "4f7f11a4-6210-4074-9550-76ba15cb0d79",
   "metadata": {},
   "source": [
    "## **MODELING**"
   ]
  },
  {
   "cell_type": "code",
   "execution_count": 160,
   "id": "f649552d-c000-4ac3-867b-b6879aab1f83",
   "metadata": {},
   "outputs": [],
   "source": [
    "# We are transforming the categorical data into numerical using the label encoder\n",
    "label_encoder_realm = LabelEncoder()\n",
    "label_encoder_enclave = LabelEncoder()\n",
    "df['RealmType'] = label_encoder_realm.fit_transform(df['RealmType'])\n",
    "df['Enclave'] = label_encoder_enclave.fit_transform(df['Enclave'])"
   ]
  },
  {
   "cell_type": "code",
   "execution_count": 161,
   "id": "434a93c5-ab0a-41e6-bd25-839003a4f71e",
   "metadata": {},
   "outputs": [
    {
     "data": {
      "text/html": [
       "<div>\n",
       "<style scoped>\n",
       "    .dataframe tbody tr th:only-of-type {\n",
       "        vertical-align: middle;\n",
       "    }\n",
       "\n",
       "    .dataframe tbody tr th {\n",
       "        vertical-align: top;\n",
       "    }\n",
       "\n",
       "    .dataframe thead th {\n",
       "        text-align: right;\n",
       "    }\n",
       "</style>\n",
       "<table border=\"1\" class=\"dataframe\">\n",
       "  <thead>\n",
       "    <tr style=\"text-align: right;\">\n",
       "      <th></th>\n",
       "      <th>TradeValue</th>\n",
       "      <th>RealmType</th>\n",
       "      <th>Enclave</th>\n",
       "      <th>LivingQuarters</th>\n",
       "      <th>ParcelSize</th>\n",
       "    </tr>\n",
       "  </thead>\n",
       "  <tbody>\n",
       "    <tr>\n",
       "      <th>TradeValue</th>\n",
       "      <td>1.000000</td>\n",
       "      <td>0.024840</td>\n",
       "      <td>0.177668</td>\n",
       "      <td>0.664547</td>\n",
       "      <td>0.346667</td>\n",
       "    </tr>\n",
       "    <tr>\n",
       "      <th>RealmType</th>\n",
       "      <td>0.024840</td>\n",
       "      <td>1.000000</td>\n",
       "      <td>-0.418881</td>\n",
       "      <td>0.021536</td>\n",
       "      <td>0.343339</td>\n",
       "    </tr>\n",
       "    <tr>\n",
       "      <th>Enclave</th>\n",
       "      <td>0.177668</td>\n",
       "      <td>-0.418881</td>\n",
       "      <td>1.000000</td>\n",
       "      <td>0.097467</td>\n",
       "      <td>-0.172837</td>\n",
       "    </tr>\n",
       "    <tr>\n",
       "      <th>LivingQuarters</th>\n",
       "      <td>0.664547</td>\n",
       "      <td>0.021536</td>\n",
       "      <td>0.097467</td>\n",
       "      <td>1.000000</td>\n",
       "      <td>0.324557</td>\n",
       "    </tr>\n",
       "    <tr>\n",
       "      <th>ParcelSize</th>\n",
       "      <td>0.346667</td>\n",
       "      <td>0.343339</td>\n",
       "      <td>-0.172837</td>\n",
       "      <td>0.324557</td>\n",
       "      <td>1.000000</td>\n",
       "    </tr>\n",
       "  </tbody>\n",
       "</table>\n",
       "</div>"
      ],
      "text/plain": [
       "                TradeValue  RealmType   Enclave  LivingQuarters  ParcelSize\n",
       "TradeValue        1.000000   0.024840  0.177668        0.664547    0.346667\n",
       "RealmType         0.024840   1.000000 -0.418881        0.021536    0.343339\n",
       "Enclave           0.177668  -0.418881  1.000000        0.097467   -0.172837\n",
       "LivingQuarters    0.664547   0.021536  0.097467        1.000000    0.324557\n",
       "ParcelSize        0.346667   0.343339 -0.172837        0.324557    1.000000"
      ]
     },
     "execution_count": 161,
     "metadata": {},
     "output_type": "execute_result"
    }
   ],
   "source": [
    "# We check the correlation between the different values, to base our model on\n",
    "df2 = df.copy()\n",
    "df2 = df2.drop(columns=[\"ParcelSizeUnit\"])\n",
    "df2.corr()"
   ]
  },
  {
   "cell_type": "code",
   "execution_count": 162,
   "id": "825248bd-25b2-4219-a1b7-5df1584eda1f",
   "metadata": {},
   "outputs": [],
   "source": [
    "# The next step is to connect the prepared data from above and to use it for getting the mean and median of the TradeValue variable. \n",
    "mean_trade_value = df['TradeValue'].mean()\n",
    "median_trade_value = df['TradeValue'].median()"
   ]
  },
  {
   "cell_type": "code",
   "execution_count": 163,
   "id": "993091c1-1117-4c05-aaaa-082556127ec4",
   "metadata": {},
   "outputs": [],
   "source": [
    "# After that we separate our data into 2 categories: categorical data, which we transform and data we want to predict. They are separated in X, y respectively\n",
    "X = df.drop(['TradeValue', 'ParcelSizeUnit'], axis=1)\n",
    "y = df['TradeValue']"
   ]
  },
  {
   "cell_type": "code",
   "execution_count": 164,
   "id": "310e24f2-edcd-4c75-84ca-9f1bdefe8c4a",
   "metadata": {},
   "outputs": [],
   "source": [
    "# Assign the data (80% of the data for training)\n",
    "X_train, X_test, y_train, y_test = train_test_split(X, y, test_size=0.2, random_state=42)  \n",
    "\n",
    "# Fit in the data and trained it to make predictions\n",
    "value = y_train.median()\n",
    "pred_train = [value] * len(y_train)\n",
    "pred_test = [value] * len(y_test)"
   ]
  },
  {
   "cell_type": "markdown",
   "id": "7d0ba6fb-896c-4e13-81da-a876db958d9a",
   "metadata": {},
   "source": [
    "## **EVALUATION**"
   ]
  },
  {
   "cell_type": "code",
   "execution_count": 165,
   "id": "fe4fa984-53e7-4e5f-8e83-46d3673e3da8",
   "metadata": {},
   "outputs": [],
   "source": [
    "# After the predictions we are using metrics such as Mean Absolute Error and Mean squared error to see what the efficiency of our model is\n",
    "mae = mean_absolute_error(y_test, pred_test) \n",
    "mse = mean_squared_error(y_test, pred_test)"
   ]
  },
  {
   "cell_type": "code",
   "execution_count": 166,
   "id": "97ea9b5d-7215-4dd5-a0c3-e8d037f1d7e4",
   "metadata": {},
   "outputs": [
    {
     "name": "stdout",
     "output_type": "stream",
     "text": [
      "The MAE: mean absolute error, is 46365.547738693465\n",
      "The MAPE: mean absolute percentage error, is 0.18019596948480093\n",
      "The MSE: mean squared error, is 3699215675.708543\n"
     ]
    }
   ],
   "source": [
    "print(\"The MAE: mean absolute error, is\", mae)\n",
    "print(\"The MAPE: mean absolute percentage error, is\", mean_absolute_percentage_error(y_test, predictions))\n",
    "print(\"The MSE: mean squared error, is\", mse)"
   ]
  }
 ],
 "metadata": {
  "kernelspec": {
   "display_name": "Python 3 (ipykernel)",
   "language": "python",
   "name": "python3"
  },
  "language_info": {
   "codemirror_mode": {
    "name": "ipython",
    "version": 3
   },
   "file_extension": ".py",
   "mimetype": "text/x-python",
   "name": "python",
   "nbconvert_exporter": "python",
   "pygments_lexer": "ipython3",
   "version": "3.12.7"
  }
 },
 "nbformat": 4,
 "nbformat_minor": 5
}
