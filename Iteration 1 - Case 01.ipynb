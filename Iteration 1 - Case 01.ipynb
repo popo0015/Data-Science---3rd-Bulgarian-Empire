{
 "cells": [
  {
   "cell_type": "code",
   "execution_count": 490,
   "id": "b571ae67-3667-428e-867d-933487af328f",
   "metadata": {},
   "outputs": [],
   "source": [
    "#firstly, we import pandas in order to work with the data set\n",
    "import pandas as pd\n",
    "import numpy as np\n",
    "\n",
    "#First step from creating the model is to import the important library for machine learning, which in our situation is scikit-learn.\n",
    "import sklearn as scikit_learn\n",
    "from sklearn.preprocessing import LabelEncoder\n",
    "from sklearn.model_selection import train_test_split\n",
    "from sklearn.tree import DecisionTreeRegressor\n",
    "from sklearn.metrics import mean_absolute_error, mean_squared_error, mean_absolute_percentage_error"
   ]
  },
  {
   "cell_type": "code",
   "execution_count": 491,
   "id": "bd39910a-65eb-40c7-9618-71eb62d4d8c0",
   "metadata": {},
   "outputs": [],
   "source": [
    "#secondly, we have to configure the file path in order to load the data f\n",
    "# Load the dataset\n",
    "file_path = \"Data/set8_it1.csv\"  # Update with your file path\n",
    "df = pd.read_csv(file_path)"
   ]
  },
  {
   "cell_type": "code",
   "execution_count": 492,
   "id": "ee2d8b0c-55dc-496c-82b6-43fd1b74f595",
   "metadata": {},
   "outputs": [
    {
     "name": "stdout",
     "output_type": "stream",
     "text": [
      "<class 'pandas.core.frame.DataFrame'>\n",
      "RangeIndex: 2363 entries, 0 to 2362\n",
      "Data columns (total 7 columns):\n",
      " #   Column          Non-Null Count  Dtype  \n",
      "---  ------          --------------  -----  \n",
      " 0   DI              2363 non-null   int64  \n",
      " 1   TradeValue      2363 non-null   float64\n",
      " 2   RealmType       2363 non-null   object \n",
      " 3   Enclave         2363 non-null   object \n",
      " 4   LivingQuarters  2244 non-null   float64\n",
      " 5   ParcelSize      2363 non-null   float64\n",
      " 6   ParcelSizeUnit  2363 non-null   object \n",
      "dtypes: float64(3), int64(1), object(3)\n",
      "memory usage: 129.4+ KB\n"
     ]
    }
   ],
   "source": [
    "df.info()"
   ]
  },
  {
   "cell_type": "code",
   "execution_count": 493,
   "id": "e6c06134-8773-4449-9e88-25f1e968eed0",
   "metadata": {},
   "outputs": [],
   "source": [
    "# 1. Remove negative values in ParcelSize\n",
    "df = df[df[\"ParcelSize\"] >= 0]"
   ]
  },
  {
   "cell_type": "code",
   "execution_count": 494,
   "id": "c89a5733-8ba6-499f-be60-187dc75dce96",
   "metadata": {},
   "outputs": [],
   "source": [
    "# 2. Remove rows with missing LivingQuarters data\n",
    "df = df.dropna(subset=[\"LivingQuarters\"])"
   ]
  },
  {
   "cell_type": "code",
   "execution_count": 495,
   "id": "d4e00091-2734-4df8-a590-5e816af995e1",
   "metadata": {},
   "outputs": [],
   "source": [
    "# 3. Remove rows where ParcelSize is less than 1\n",
    "df = df[df[\"ParcelSize\"] >= 1]"
   ]
  },
  {
   "cell_type": "code",
   "execution_count": 496,
   "id": "9d7209f1-aacd-4e8b-b38b-1210c603d9d1",
   "metadata": {},
   "outputs": [],
   "source": [
    "# 4. Remove duplicate rows\n",
    "df = df.drop_duplicates()"
   ]
  },
  {
   "cell_type": "code",
   "execution_count": 497,
   "id": "0b1a533b-b4c2-46da-9703-2198554a8654",
   "metadata": {},
   "outputs": [
    {
     "data": {
      "text/plain": [
       "array(['shadowmere', 'ravenstone', 'petalbridge', 'emberfall',\n",
       "       'dragonspire', 'riverbend', 'cloudrest', 'nighthaven', 'sunspire',\n",
       "       'brightforge', 'wyverncliff', 'crystalhollow', 'wolfsbane',\n",
       "       'duskwood', 'mystvale', 'glimmerwood', 'stormhold', 'silverglen',\n",
       "       'thornfield', 'dreamweaver', 'stormwatch', 'windwhisper',\n",
       "       'oakenshade', 'mossheart', 'starfall', 'verdantia', 'moonglade'],\n",
       "      dtype=object)"
      ]
     },
     "execution_count": 497,
     "metadata": {},
     "output_type": "execute_result"
    }
   ],
   "source": [
    "# 5. Standardize Enclave column (lowercase and strip spaces)\n",
    "df[\"Enclave\"] = df[\"Enclave\"].str.strip().str.lower()\n",
    "# Define a mapping to correct similar enclave names\n",
    "enclave_corrections = {\n",
    "    \"shadowmeres\": \"shadowmere\",\n",
    "    \"mystvales\": \"mystvale\",\n",
    "    \"dragonspires\": \"dragonspire\",\n",
    "    \"stormwatchs\": \"stormwatch\",\n",
    "    \"thornfields\": \"thornfield\",\n",
    "    \"petalbridges\": \"petalbridge\",\n",
    "    \"silverglens\": \"silverglen\",\n",
    "    \"riverbends\": \"riverbend\",\n",
    "    \"emberfalls\": \"emberfall\"\n",
    "}\n",
    "\n",
    "# Replace incorrect names with correct ones\n",
    "df[\"Enclave\"] = df[\"Enclave\"].replace(enclave_corrections)\n",
    "\n",
    "# Verify the results\n",
    "df[\"Enclave\"].unique()"
   ]
  },
  {
   "cell_type": "code",
   "execution_count": 498,
   "id": "9b496e95-167e-4c23-8831-ed80ae9a2b90",
   "metadata": {},
   "outputs": [],
   "source": [
    "# 6. Convert ParcelSize to sqft if it is in sqm\n",
    "conversion_factor = 10.7639  # 1 sqm = 10.7639 sqft\n",
    "df.loc[df[\"ParcelSizeUnit\"] == \"sqm\", \"ParcelSize\"] *= conversion_factor\n",
    "df.loc[df[\"ParcelSizeUnit\"] == \"sqm\", \"ParcelSizeUnit\"] = \"sqft\"  # Standardizing to sqft"
   ]
  },
  {
   "cell_type": "code",
   "execution_count": 499,
   "id": "caafbca3-4a09-4e8d-a87d-2c4764c3882d",
   "metadata": {},
   "outputs": [],
   "source": [
    "# 7. Investigate TradeValue minimum\n",
    "min_trade_value = df[\"TradeValue\"].min()\n",
    "outlier_trade_value = df[df[\"TradeValue\"] == min_trade_value]"
   ]
  },
  {
   "cell_type": "code",
   "execution_count": 500,
   "id": "b1f33677-f194-4027-81c7-a58446a00383",
   "metadata": {},
   "outputs": [],
   "source": [
    "# 8. Detect outliers using 1.5*IQR method\n",
    "def detect_outliers(column):\n",
    "    Q1 = df[column].quantile(0.25)\n",
    "    Q3 = df[column].quantile(0.75)\n",
    "    IQR = Q3 - Q1\n",
    "    lower_bound = Q1 - 1.5 * IQR\n",
    "    upper_bound = Q3 + 1.5 * IQR\n",
    "    return df[(df[column] < lower_bound) | (df[column] > upper_bound)]"
   ]
  },
  {
   "cell_type": "code",
   "execution_count": 501,
   "id": "7dc18027-38ff-411a-adc6-929143774748",
   "metadata": {},
   "outputs": [],
   "source": [
    "outliers_trade_value = detect_outliers(\"TradeValue\")\n",
    "outliers_living_quarters = detect_outliers(\"LivingQuarters\")\n",
    "outliers_parcel_size = detect_outliers(\"ParcelSize\")\n",
    "\n",
    "# Get index values of all outliers\n",
    "outlier_indices = (\n",
    "    outliers_trade_value.index.to_list() + \n",
    "    outliers_living_quarters.index.to_list() + \n",
    "    outliers_parcel_size.index.to_list()\n",
    ")\n",
    "\n",
    "# Drop these rows from the dataset\n",
    "df = df.drop(index=outlier_indices)"
   ]
  },
  {
   "cell_type": "code",
   "execution_count": 502,
   "id": "7f3141ec-c9c8-40c9-8353-6b449fd487da",
   "metadata": {},
   "outputs": [
    {
     "name": "stdout",
     "output_type": "stream",
     "text": [
      "<class 'pandas.core.frame.DataFrame'>\n",
      "Index: 1991 entries, 0 to 2362\n",
      "Data columns (total 7 columns):\n",
      " #   Column          Non-Null Count  Dtype  \n",
      "---  ------          --------------  -----  \n",
      " 0   DI              1991 non-null   int64  \n",
      " 1   TradeValue      1991 non-null   float64\n",
      " 2   RealmType       1991 non-null   object \n",
      " 3   Enclave         1991 non-null   object \n",
      " 4   LivingQuarters  1991 non-null   float64\n",
      " 5   ParcelSize      1991 non-null   float64\n",
      " 6   ParcelSizeUnit  1991 non-null   object \n",
      "dtypes: float64(3), int64(1), object(3)\n",
      "memory usage: 124.4+ KB\n"
     ]
    }
   ],
   "source": [
    "df.info()"
   ]
  },
  {
   "cell_type": "code",
   "execution_count": 503,
   "id": "eb9c95bb-54b3-4eb1-aa1b-5636e211ceac",
   "metadata": {},
   "outputs": [
    {
     "data": {
      "text/html": [
       "<div>\n",
       "<style scoped>\n",
       "    .dataframe tbody tr th:only-of-type {\n",
       "        vertical-align: middle;\n",
       "    }\n",
       "\n",
       "    .dataframe tbody tr th {\n",
       "        vertical-align: top;\n",
       "    }\n",
       "\n",
       "    .dataframe thead th {\n",
       "        text-align: right;\n",
       "    }\n",
       "</style>\n",
       "<table border=\"1\" class=\"dataframe\">\n",
       "  <thead>\n",
       "    <tr style=\"text-align: right;\">\n",
       "      <th></th>\n",
       "      <th>DI</th>\n",
       "      <th>TradeValue</th>\n",
       "      <th>RealmType</th>\n",
       "      <th>Enclave</th>\n",
       "      <th>LivingQuarters</th>\n",
       "      <th>ParcelSize</th>\n",
       "      <th>ParcelSizeUnit</th>\n",
       "    </tr>\n",
       "  </thead>\n",
       "  <tbody>\n",
       "    <tr>\n",
       "      <th>0</th>\n",
       "      <td>0</td>\n",
       "      <td>125000.0</td>\n",
       "      <td>Meadowlands</td>\n",
       "      <td>shadowmere</td>\n",
       "      <td>1032.0</td>\n",
       "      <td>9280.0</td>\n",
       "      <td>sqft</td>\n",
       "    </tr>\n",
       "    <tr>\n",
       "      <th>1</th>\n",
       "      <td>1</td>\n",
       "      <td>250000.0</td>\n",
       "      <td>Meadowlands</td>\n",
       "      <td>ravenstone</td>\n",
       "      <td>1933.0</td>\n",
       "      <td>11170.0</td>\n",
       "      <td>sqft</td>\n",
       "    </tr>\n",
       "    <tr>\n",
       "      <th>2</th>\n",
       "      <td>2</td>\n",
       "      <td>130000.0</td>\n",
       "      <td>GnomeBurough</td>\n",
       "      <td>petalbridge</td>\n",
       "      <td>1012.0</td>\n",
       "      <td>5500.0</td>\n",
       "      <td>sqft</td>\n",
       "    </tr>\n",
       "    <tr>\n",
       "      <th>3</th>\n",
       "      <td>3</td>\n",
       "      <td>157500.0</td>\n",
       "      <td>Meadowlands</td>\n",
       "      <td>emberfall</td>\n",
       "      <td>843.0</td>\n",
       "      <td>13014.0</td>\n",
       "      <td>sqft</td>\n",
       "    </tr>\n",
       "    <tr>\n",
       "      <th>4</th>\n",
       "      <td>4</td>\n",
       "      <td>156000.0</td>\n",
       "      <td>Meadowlands</td>\n",
       "      <td>dragonspire</td>\n",
       "      <td>807.0</td>\n",
       "      <td>8092.0</td>\n",
       "      <td>sqft</td>\n",
       "    </tr>\n",
       "    <tr>\n",
       "      <th>...</th>\n",
       "      <td>...</td>\n",
       "      <td>...</td>\n",
       "      <td>...</td>\n",
       "      <td>...</td>\n",
       "      <td>...</td>\n",
       "      <td>...</td>\n",
       "      <td>...</td>\n",
       "    </tr>\n",
       "    <tr>\n",
       "      <th>2356</th>\n",
       "      <td>2333</td>\n",
       "      <td>117000.0</td>\n",
       "      <td>Meadowlands</td>\n",
       "      <td>petalbridge</td>\n",
       "      <td>640.0</td>\n",
       "      <td>5400.0</td>\n",
       "      <td>sqft</td>\n",
       "    </tr>\n",
       "    <tr>\n",
       "      <th>2357</th>\n",
       "      <td>2334</td>\n",
       "      <td>195800.0</td>\n",
       "      <td>Meadowlands</td>\n",
       "      <td>sunspire</td>\n",
       "      <td>1239.0</td>\n",
       "      <td>8400.0</td>\n",
       "      <td>sqft</td>\n",
       "    </tr>\n",
       "    <tr>\n",
       "      <th>2360</th>\n",
       "      <td>2337</td>\n",
       "      <td>214000.0</td>\n",
       "      <td>Meadowlands</td>\n",
       "      <td>dragonspire</td>\n",
       "      <td>1138.0</td>\n",
       "      <td>8197.0</td>\n",
       "      <td>sqft</td>\n",
       "    </tr>\n",
       "    <tr>\n",
       "      <th>2361</th>\n",
       "      <td>2338</td>\n",
       "      <td>129500.0</td>\n",
       "      <td>Meadowlands</td>\n",
       "      <td>emberfall</td>\n",
       "      <td>759.0</td>\n",
       "      <td>9100.0</td>\n",
       "      <td>sqft</td>\n",
       "    </tr>\n",
       "    <tr>\n",
       "      <th>2362</th>\n",
       "      <td>2339</td>\n",
       "      <td>153500.0</td>\n",
       "      <td>Meadowlands</td>\n",
       "      <td>nighthaven</td>\n",
       "      <td>826.0</td>\n",
       "      <td>10140.0</td>\n",
       "      <td>sqft</td>\n",
       "    </tr>\n",
       "  </tbody>\n",
       "</table>\n",
       "<p>1991 rows × 7 columns</p>\n",
       "</div>"
      ],
      "text/plain": [
       "        DI  TradeValue     RealmType      Enclave  LivingQuarters  ParcelSize  \\\n",
       "0        0    125000.0   Meadowlands   shadowmere          1032.0      9280.0   \n",
       "1        1    250000.0   Meadowlands   ravenstone          1933.0     11170.0   \n",
       "2        2    130000.0  GnomeBurough  petalbridge          1012.0      5500.0   \n",
       "3        3    157500.0   Meadowlands    emberfall           843.0     13014.0   \n",
       "4        4    156000.0   Meadowlands  dragonspire           807.0      8092.0   \n",
       "...    ...         ...           ...          ...             ...         ...   \n",
       "2356  2333    117000.0   Meadowlands  petalbridge           640.0      5400.0   \n",
       "2357  2334    195800.0   Meadowlands     sunspire          1239.0      8400.0   \n",
       "2360  2337    214000.0   Meadowlands  dragonspire          1138.0      8197.0   \n",
       "2361  2338    129500.0   Meadowlands    emberfall           759.0      9100.0   \n",
       "2362  2339    153500.0   Meadowlands   nighthaven           826.0     10140.0   \n",
       "\n",
       "     ParcelSizeUnit  \n",
       "0              sqft  \n",
       "1              sqft  \n",
       "2              sqft  \n",
       "3              sqft  \n",
       "4              sqft  \n",
       "...             ...  \n",
       "2356           sqft  \n",
       "2357           sqft  \n",
       "2360           sqft  \n",
       "2361           sqft  \n",
       "2362           sqft  \n",
       "\n",
       "[1991 rows x 7 columns]"
      ]
     },
     "execution_count": 503,
     "metadata": {},
     "output_type": "execute_result"
    }
   ],
   "source": [
    "df"
   ]
  },
  {
   "cell_type": "code",
   "execution_count": 504,
   "id": "825248bd-25b2-4219-a1b7-5df1584eda1f",
   "metadata": {},
   "outputs": [],
   "source": [
    "# The next step is to connect the prepared data from above and to use it for getting the mean and median of the TradeValue variable. \n",
    "mean_trade_value = df['TradeValue'].mean()\n",
    "median_trade_value = df['TradeValue'].median()"
   ]
  },
  {
   "cell_type": "code",
   "execution_count": 505,
   "id": "f649552d-c000-4ac3-867b-b6879aab1f83",
   "metadata": {},
   "outputs": [],
   "source": [
    "#After we have connected the data, we are transforming the categorical data into numerical using the label encoder so the model can fit all of that information so it can make predictions\n",
    "label_encoder_realm = LabelEncoder()\n",
    "label_encoder_enclave = LabelEncoder()\n",
    "df['RealmType'] = label_encoder_realm.fit_transform(df['RealmType'])\n",
    "df['Enclave'] = label_encoder_enclave.fit_transform(df['Enclave'])"
   ]
  },
  {
   "cell_type": "code",
   "execution_count": 506,
   "id": "993091c1-1117-4c05-aaaa-082556127ec4",
   "metadata": {},
   "outputs": [],
   "source": [
    "#After that we separate our data into two categories: categorical data, which we transform and data we want to predict. They are separated in X, y respectively\n",
    "X = df.drop(['TradeValue', 'ParcelSizeUnit'], axis=1)\n",
    "y = df['TradeValue']"
   ]
  },
  {
   "cell_type": "code",
   "execution_count": 507,
   "id": "310e24f2-edcd-4c75-84ca-9f1bdefe8c4a",
   "metadata": {},
   "outputs": [],
   "source": [
    "#Then we assign the data, where we are using 80% of the data for training\n",
    "X_train, X_test, y_train, y_test = train_test_split(X, y, test_size=0.2, random_state=42)                                                "
   ]
  },
  {
   "cell_type": "code",
   "execution_count": 508,
   "id": "45676ce5-be16-42fa-b50d-8e8a2d28c9c9",
   "metadata": {},
   "outputs": [],
   "source": [
    "#The final step is we have created the model, fit in the data and trained it to make predictions\n",
    "model = DecisionTreeRegressor(random_state=42)\n",
    "model.fit(X_train, y_train) \n",
    "predictions = model.predict(X_test)"
   ]
  },
  {
   "cell_type": "code",
   "execution_count": 509,
   "id": "fe4fa984-53e7-4e5f-8e83-46d3673e3da8",
   "metadata": {},
   "outputs": [],
   "source": [
    "#After the predictions we are using metrics such as Mean Absolute Error and Mean squared error to see what the efficiency of our model is\n",
    "mae = mean_absolute_error(y_test, predictions) \n",
    "mse = mean_squared_error(y_test, predictions)"
   ]
  },
  {
   "cell_type": "code",
   "execution_count": 510,
   "id": "97ea9b5d-7215-4dd5-a0c3-e8d037f1d7e4",
   "metadata": {},
   "outputs": [
    {
     "data": {
      "text/plain": [
       "28756.42105263158"
      ]
     },
     "execution_count": 510,
     "metadata": {},
     "output_type": "execute_result"
    }
   ],
   "source": [
    "mae"
   ]
  },
  {
   "cell_type": "code",
   "execution_count": 511,
   "id": "cd5ccefa-8809-4372-a13a-dbc56af0ff1e",
   "metadata": {},
   "outputs": [
    {
     "data": {
      "text/plain": [
       "0.18187433389444907"
      ]
     },
     "execution_count": 511,
     "metadata": {},
     "output_type": "execute_result"
    }
   ],
   "source": [
    "mean_absolute_percentage_error(y_test, predictions)"
   ]
  },
  {
   "cell_type": "code",
   "execution_count": 512,
   "id": "c2d14a29-75e9-4db9-88f8-b799c08067a1",
   "metadata": {},
   "outputs": [
    {
     "data": {
      "text/plain": [
       "1540212035.413534"
      ]
     },
     "execution_count": 512,
     "metadata": {},
     "output_type": "execute_result"
    }
   ],
   "source": [
    "mse"
   ]
  },
  {
   "cell_type": "code",
   "execution_count": 513,
   "id": "434a93c5-ab0a-41e6-bd25-839003a4f71e",
   "metadata": {},
   "outputs": [
    {
     "data": {
      "text/html": [
       "<div>\n",
       "<style scoped>\n",
       "    .dataframe tbody tr th:only-of-type {\n",
       "        vertical-align: middle;\n",
       "    }\n",
       "\n",
       "    .dataframe tbody tr th {\n",
       "        vertical-align: top;\n",
       "    }\n",
       "\n",
       "    .dataframe thead th {\n",
       "        text-align: right;\n",
       "    }\n",
       "</style>\n",
       "<table border=\"1\" class=\"dataframe\">\n",
       "  <thead>\n",
       "    <tr style=\"text-align: right;\">\n",
       "      <th></th>\n",
       "      <th>DI</th>\n",
       "      <th>TradeValue</th>\n",
       "      <th>RealmType</th>\n",
       "      <th>Enclave</th>\n",
       "      <th>LivingQuarters</th>\n",
       "      <th>ParcelSize</th>\n",
       "    </tr>\n",
       "  </thead>\n",
       "  <tbody>\n",
       "    <tr>\n",
       "      <th>DI</th>\n",
       "      <td>1.000000</td>\n",
       "      <td>-0.009014</td>\n",
       "      <td>0.027681</td>\n",
       "      <td>0.006276</td>\n",
       "      <td>-0.025831</td>\n",
       "      <td>-0.009551</td>\n",
       "    </tr>\n",
       "    <tr>\n",
       "      <th>TradeValue</th>\n",
       "      <td>-0.009014</td>\n",
       "      <td>1.000000</td>\n",
       "      <td>0.025369</td>\n",
       "      <td>0.177581</td>\n",
       "      <td>0.664110</td>\n",
       "      <td>0.346362</td>\n",
       "    </tr>\n",
       "    <tr>\n",
       "      <th>RealmType</th>\n",
       "      <td>0.027681</td>\n",
       "      <td>0.025369</td>\n",
       "      <td>1.000000</td>\n",
       "      <td>-0.418702</td>\n",
       "      <td>0.021519</td>\n",
       "      <td>0.343391</td>\n",
       "    </tr>\n",
       "    <tr>\n",
       "      <th>Enclave</th>\n",
       "      <td>0.006276</td>\n",
       "      <td>0.177581</td>\n",
       "      <td>-0.418702</td>\n",
       "      <td>1.000000</td>\n",
       "      <td>0.097334</td>\n",
       "      <td>-0.173558</td>\n",
       "    </tr>\n",
       "    <tr>\n",
       "      <th>LivingQuarters</th>\n",
       "      <td>-0.025831</td>\n",
       "      <td>0.664110</td>\n",
       "      <td>0.021519</td>\n",
       "      <td>0.097334</td>\n",
       "      <td>1.000000</td>\n",
       "      <td>0.323338</td>\n",
       "    </tr>\n",
       "    <tr>\n",
       "      <th>ParcelSize</th>\n",
       "      <td>-0.009551</td>\n",
       "      <td>0.346362</td>\n",
       "      <td>0.343391</td>\n",
       "      <td>-0.173558</td>\n",
       "      <td>0.323338</td>\n",
       "      <td>1.000000</td>\n",
       "    </tr>\n",
       "  </tbody>\n",
       "</table>\n",
       "</div>"
      ],
      "text/plain": [
       "                      DI  TradeValue  RealmType   Enclave  LivingQuarters  \\\n",
       "DI              1.000000   -0.009014   0.027681  0.006276       -0.025831   \n",
       "TradeValue     -0.009014    1.000000   0.025369  0.177581        0.664110   \n",
       "RealmType       0.027681    0.025369   1.000000 -0.418702        0.021519   \n",
       "Enclave         0.006276    0.177581  -0.418702  1.000000        0.097334   \n",
       "LivingQuarters -0.025831    0.664110   0.021519  0.097334        1.000000   \n",
       "ParcelSize     -0.009551    0.346362   0.343391 -0.173558        0.323338   \n",
       "\n",
       "                ParcelSize  \n",
       "DI               -0.009551  \n",
       "TradeValue        0.346362  \n",
       "RealmType         0.343391  \n",
       "Enclave          -0.173558  \n",
       "LivingQuarters    0.323338  \n",
       "ParcelSize        1.000000  "
      ]
     },
     "execution_count": 513,
     "metadata": {},
     "output_type": "execute_result"
    }
   ],
   "source": [
    "df2 = df.copy()\n",
    "df2 = df2.drop(columns=[\"ParcelSizeUnit\"])\n",
    "df2.corr()"
   ]
  },
  {
   "cell_type": "code",
   "execution_count": 514,
   "id": "e70d7ceb-d875-4e72-a3f0-103073e98669",
   "metadata": {},
   "outputs": [
    {
     "data": {
      "text/plain": [
       "array([16, 14, 13,  6,  3,  1, 11, 21,  0,  2, 26, 25,  5, 10, 19,  7, 17,\n",
       "       22,  4, 20, 24, 15, 12,  9, 18, 23,  8])"
      ]
     },
     "execution_count": 514,
     "metadata": {},
     "output_type": "execute_result"
    }
   ],
   "source": [
    "df[\"Enclave\"].unique()"
   ]
  }
 ],
 "metadata": {
  "kernelspec": {
   "display_name": "Python 3 (ipykernel)",
   "language": "python",
   "name": "python3"
  },
  "language_info": {
   "codemirror_mode": {
    "name": "ipython",
    "version": 3
   },
   "file_extension": ".py",
   "mimetype": "text/x-python",
   "name": "python",
   "nbconvert_exporter": "python",
   "pygments_lexer": "ipython3",
   "version": "3.12.7"
  }
 },
 "nbformat": 4,
 "nbformat_minor": 5
}
